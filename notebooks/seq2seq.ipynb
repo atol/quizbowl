{
 "cells": [
  {
   "cell_type": "markdown",
   "metadata": {
    "colab_type": "text",
    "id": "OD-LLMoiq8nj"
   },
   "source": [
    "# Set up"
   ]
  },
  {
   "cell_type": "code",
   "execution_count": 0,
   "metadata": {
    "colab": {},
    "colab_type": "code",
    "id": "R8TITNiRpYz8"
   },
   "outputs": [],
   "source": [
    "import pandas as pd\n",
    "import numpy as np\n",
    "import json\n",
    "import pickle\n",
    "import os"
   ]
  },
  {
   "cell_type": "markdown",
   "metadata": {
    "colab_type": "text",
    "id": "vp9KKLPrrB3L"
   },
   "source": [
    "# Load training data"
   ]
  },
  {
   "cell_type": "code",
   "execution_count": 18,
   "metadata": {
    "colab": {
     "base_uri": "https://localhost:8080/",
     "height": 52
    },
    "colab_type": "code",
    "id": "1d1BSpDxhBGU",
    "outputId": "65617aa9-11c0-42a7-eb6c-916d9d193ef2"
   },
   "outputs": [
    {
     "name": "stdout",
     "output_type": "stream",
     "text": [
      "[nltk_data] Downloading package punkt to /root/nltk_data...\n",
      "[nltk_data]   Unzipping tokenizers/punkt.zip.\n"
     ]
    }
   ],
   "source": [
    "import nltk\n",
    "nltk.download('punkt')\n",
    "from nltk.tokenize import sent_tokenize"
   ]
  },
  {
   "cell_type": "code",
   "execution_count": 0,
   "metadata": {
    "colab": {},
    "colab_type": "code",
    "id": "-8CZrH_ohBGy"
   },
   "outputs": [],
   "source": [
    "def datasets():\n",
    "    train_file = \"../data/qanta.train.2018.04.18.json\"\n",
    "    dev_file = \"../data/qanta.dev.2018.04.18.json\"\n",
    "    test_file = \"../data/qanta.test.2018.04.18.json\"\n",
    "\n",
    "    def load_data(filename):\n",
    "        data = list()\n",
    "        with open(filename) as json_data:\n",
    "            questions = json.load(json_data)[\"questions\"]\n",
    "        return questions\n",
    "\n",
    "    train_data = load_data(train_file)\n",
    "    dev_data = load_data(dev_file)\n",
    "    test_data = load_data(test_file)\n",
    "\n",
    "    return train_data, dev_data, test_data"
   ]
  },
  {
   "cell_type": "code",
   "execution_count": 0,
   "metadata": {
    "colab": {},
    "colab_type": "code",
    "id": "fVYQyjtLhBGw"
   },
   "outputs": [],
   "source": [
    "train_data, dev_data, test_data = datasets()"
   ]
  },
  {
   "cell_type": "code",
   "execution_count": 0,
   "metadata": {
    "colab": {},
    "colab_type": "code",
    "id": "7LAxbOV1hBGu"
   },
   "outputs": [],
   "source": [
    "train_df = pd.DataFrame.from_dict(train_data)\n",
    "dev_df = pd.DataFrame.from_dict(dev_data)\n",
    "test_df = pd.DataFrame.from_dict(test_data)"
   ]
  },
  {
   "cell_type": "code",
   "execution_count": 0,
   "metadata": {
    "colab": {},
    "colab_type": "code",
    "id": "xzuz0EzWhBGK"
   },
   "outputs": [],
   "source": [
    "# Split up sentences in questions\n",
    "train_df_new = pd.concat([pd.DataFrame({'text': text, 'answer': row['answer']}, index=[0]) \n",
    "           for _, row in train_df.iterrows() \n",
    "           for text in sent_tokenize(row['text']) if text != ''])"
   ]
  },
  {
   "cell_type": "code",
   "execution_count": 0,
   "metadata": {
    "colab": {},
    "colab_type": "code",
    "id": "vorW7aJuhA1l"
   },
   "outputs": [],
   "source": [
    "# Save processed training data\n",
    "train_df_new.to_pickle(\"split_train.pkl\")"
   ]
  },
  {
   "cell_type": "code",
   "execution_count": 0,
   "metadata": {
    "colab": {},
    "colab_type": "code",
    "id": "BJPTRuhTqvcm"
   },
   "outputs": [],
   "source": [
    "# # Load saved, pre-processed training data\n",
    "# train_df_saved = pd.read_pickle(\"split_train.pkl\")"
   ]
  },
  {
   "cell_type": "code",
   "execution_count": 0,
   "metadata": {
    "colab": {},
    "colab_type": "code",
    "id": "7SQCC5uru6Wd"
   },
   "outputs": [],
   "source": [
    "# Sample the training data\n",
    "train_df_new = train_df_saved[:20000]"
   ]
  },
  {
   "cell_type": "code",
   "execution_count": 0,
   "metadata": {
    "colab": {},
    "colab_type": "code",
    "id": "4mhnPfGktTxr"
   },
   "outputs": [],
   "source": [
    "questions = train_df_new['text'].values.tolist()"
   ]
  },
  {
   "cell_type": "code",
   "execution_count": 0,
   "metadata": {
    "colab": {},
    "colab_type": "code",
    "id": "wcc29tD4w24Z"
   },
   "outputs": [],
   "source": [
    "answers = train_df_new['answer'].values.tolist()"
   ]
  },
  {
   "cell_type": "markdown",
   "metadata": {
    "colab_type": "text",
    "id": "iOwMBLoRw_Lw"
   },
   "source": [
    "# Preprocessing"
   ]
  },
  {
   "cell_type": "code",
   "execution_count": 0,
   "metadata": {
    "colab": {},
    "colab_type": "code",
    "id": "5bmYuhffroQU"
   },
   "outputs": [],
   "source": [
    "import re\n",
    "\n",
    "# Source: https://towardsdatascience.com/how-to-implement-seq2seq-lstm-model-in-keras-shortcutnlp-6f355f3e5639\n",
    "\n",
    "def clean_text(text):\n",
    "    '''Clean text by removing unnecessary characters and altering the format of words.'''\n",
    "\n",
    "    text = text.lower()\n",
    "    \n",
    "    text = re.sub(r\"i'm\", \"i am\", text)\n",
    "    text = re.sub(r\"he's\", \"he is\", text)\n",
    "    text = re.sub(r\"she's\", \"she is\", text)\n",
    "    text = re.sub(r\"it's\", \"it is\", text)\n",
    "    text = re.sub(r\"that's\", \"that is\", text)\n",
    "    text = re.sub(r\"what's\", \"that is\", text)\n",
    "    text = re.sub(r\"where's\", \"where is\", text)\n",
    "    text = re.sub(r\"how's\", \"how is\", text)\n",
    "    text = re.sub(r\"\\'ll\", \" will\", text)\n",
    "    text = re.sub(r\"\\'ve\", \" have\", text)\n",
    "    text = re.sub(r\"\\'re\", \" are\", text)\n",
    "    text = re.sub(r\"\\'d\", \" would\", text)\n",
    "    text = re.sub(r\"\\'re\", \" are\", text)\n",
    "    text = re.sub(r\"won't\", \"will not\", text)\n",
    "    text = re.sub(r\"can't\", \"cannot\", text)\n",
    "    text = re.sub(r\"n't\", \" not\", text)\n",
    "    text = re.sub(r\"n'\", \"ng\", text)\n",
    "    text = re.sub(r\"'bout\", \"about\", text)\n",
    "    text = re.sub(r\"'til\", \"until\", text)\n",
    "    text = re.sub(\"[\\(\\[].*?[\\)\\]]\", \"\", text) # remove alternate answers inside parenthesis\n",
    "    text = re.sub(r\"[^A-Za-z0-9- ]+\", \" \", text)\n",
    "    text = re.sub(r\"  \", \" \", text)\n",
    "    text = text.strip()\n",
    "    \n",
    "    return text"
   ]
  },
  {
   "cell_type": "code",
   "execution_count": 0,
   "metadata": {
    "colab": {},
    "colab_type": "code",
    "id": "8ObMgLGUtxW2"
   },
   "outputs": [],
   "source": [
    "tidy_questions = []\n",
    "for q in questions:\n",
    "    text = clean_text(q)\n",
    "    tidy_questions.append(text)"
   ]
  },
  {
   "cell_type": "code",
   "execution_count": 0,
   "metadata": {
    "colab": {},
    "colab_type": "code",
    "id": "a50OQTx_xzXO"
   },
   "outputs": [],
   "source": [
    "questions[:10]"
   ]
  },
  {
   "cell_type": "code",
   "execution_count": 0,
   "metadata": {
    "colab": {},
    "colab_type": "code",
    "id": "ZMUrLbRVKLIR"
   },
   "outputs": [],
   "source": [
    "tidy_questions[:10]"
   ]
  },
  {
   "cell_type": "code",
   "execution_count": 0,
   "metadata": {
    "colab": {},
    "colab_type": "code",
    "id": "AvPvP0YVxX8W"
   },
   "outputs": [],
   "source": [
    "tidy_answers = []\n",
    "for a in answers:\n",
    "    text = clean_text(a)\n",
    "    tidy_answers.append(text)"
   ]
  },
  {
   "cell_type": "code",
   "execution_count": 0,
   "metadata": {
    "colab": {},
    "colab_type": "code",
    "id": "jKdef2clx1PJ"
   },
   "outputs": [],
   "source": [
    "answers[:10]"
   ]
  },
  {
   "cell_type": "code",
   "execution_count": 0,
   "metadata": {
    "colab": {},
    "colab_type": "code",
    "id": "Lcwa8c4KLBAk"
   },
   "outputs": [],
   "source": [
    "tidy_answers[:10]"
   ]
  },
  {
   "cell_type": "code",
   "execution_count": 0,
   "metadata": {
    "colab": {},
    "colab_type": "code",
    "id": "f9ZMnf8uqZ0O"
   },
   "outputs": [],
   "source": [
    "input_texts = tidy_questions\n",
    "target_texts = []\n",
    "target_texts_inputs = [] \n",
    "\n",
    "for answer in tidy_answers:\n",
    "  output_sentence = answer + ' <eos>'\n",
    "  output_sentence_input = '<sos> ' + answer\n",
    "  target_texts.append(output_sentence)\n",
    "  target_texts_inputs.append(output_sentence_input)"
   ]
  },
  {
   "cell_type": "code",
   "execution_count": 13,
   "metadata": {
    "colab": {
     "base_uri": "https://localhost:8080/",
     "height": 69
    },
    "colab_type": "code",
    "id": "YU-TbOEgrV0q",
    "outputId": "1eb7cfa8-b465-410a-a37c-9b4a071fe84d"
   },
   "outputs": [
    {
     "name": "stdout",
     "output_type": "stream",
     "text": [
      "paul benacerraf used a story about ernie and johnny to argue that not all identities are meaningful in a paper that aims to show what these objects could not be\n",
      "numbers <eos>\n",
      "<sos> numbers\n"
     ]
    }
   ],
   "source": [
    "print(input_texts[172])\n",
    "print(target_texts[172])\n",
    "print(target_texts_inputs[172])"
   ]
  },
  {
   "cell_type": "code",
   "execution_count": 0,
   "metadata": {
    "colab": {},
    "colab_type": "code",
    "id": "V2voXwU2Qhhw"
   },
   "outputs": [],
   "source": [
    "with open('input_text.txt', 'w') as f:\n",
    "    for item in input_text:\n",
    "        f.write(\"%s\\n\" % item)"
   ]
  },
  {
   "cell_type": "code",
   "execution_count": 0,
   "metadata": {
    "colab": {},
    "colab_type": "code",
    "id": "8uaGqiuMQrjS"
   },
   "outputs": [],
   "source": [
    "with open('target_text.txt', 'w') as f:\n",
    "    for item in target_text:\n",
    "        f.write(\"%s\\n\" % item)"
   ]
  },
  {
   "cell_type": "markdown",
   "metadata": {
    "colab_type": "text",
    "id": "k1BLZKu70PtG"
   },
   "source": [
    "# Tokenization"
   ]
  },
  {
   "cell_type": "code",
   "execution_count": 14,
   "metadata": {
    "colab": {
     "base_uri": "https://localhost:8080/",
     "height": 35
    },
    "colab_type": "code",
    "id": "m9IiMAoI0LyT",
    "outputId": "ad8cfca1-982a-423d-9bf4-198f12fee571"
   },
   "outputs": [
    {
     "name": "stderr",
     "output_type": "stream",
     "text": [
      "Using TensorFlow backend.\n"
     ]
    }
   ],
   "source": [
    "from keras.preprocessing.text import Tokenizer"
   ]
  },
  {
   "cell_type": "code",
   "execution_count": 15,
   "metadata": {
    "colab": {
     "base_uri": "https://localhost:8080/",
     "height": 52
    },
    "colab_type": "code",
    "id": "G7tLgdRG5u46",
    "outputId": "fc1d9d3b-64bb-4156-c621-78f9e2dab006"
   },
   "outputs": [
    {
     "name": "stdout",
     "output_type": "stream",
     "text": [
      "Total unique words in the input: 43743\n",
      "Length of longest sentence in input: 103\n"
     ]
    }
   ],
   "source": [
    "input_tokenizer = Tokenizer()\n",
    "input_tokenizer.fit_on_texts(input_texts)\n",
    "input_sequence = input_tokenizer.texts_to_sequences(input_texts)\n",
    "\n",
    "word2idx_inputs = input_tokenizer.word_index\n",
    "print('Total unique words in the input: %s' % len(word2idx_inputs))\n",
    "\n",
    "max_input_len = max(len(sen) for sen in input_sequence)\n",
    "print(\"Length of longest sentence in input: %g\" % max_input_len)"
   ]
  },
  {
   "cell_type": "code",
   "execution_count": 57,
   "metadata": {
    "colab": {
     "base_uri": "https://localhost:8080/",
     "height": 52
    },
    "colab_type": "code",
    "id": "iAth4Hpz6LZt",
    "outputId": "22fae88c-940b-491f-9a59-6661c885a9e9"
   },
   "outputs": [
    {
     "name": "stdout",
     "output_type": "stream",
     "text": [
      "Total unique words in the output: 4853\n",
      "Length of longest sentence in the output: 38\n"
     ]
    }
   ],
   "source": [
    "output_tokenizer = Tokenizer(filters='') # don't remove <> for special tokens\n",
    "output_tokenizer.fit_on_texts(target_texts + target_texts_inputs)\n",
    "output_sequence = output_tokenizer.texts_to_sequences(target_texts)\n",
    "output_sequence_inputs = output_tokenizer.texts_to_sequences(target_texts_inputs)\n",
    "\n",
    "word2idx_outputs = output_tokenizer.word_index\n",
    "print('Total unique words in the output: %s' % len(word2idx_outputs))\n",
    "\n",
    "num_words_output = len(word2idx_outputs) + 1\n",
    "max_output_len = max(len(sen) for sen in output_sequence)\n",
    "print(\"Length of longest sentence in the output: %g\" % max_output_len)"
   ]
  },
  {
   "cell_type": "markdown",
   "metadata": {
    "colab_type": "text",
    "id": "G-qIR8tDGo4M"
   },
   "source": [
    "# Padding"
   ]
  },
  {
   "cell_type": "code",
   "execution_count": 0,
   "metadata": {
    "colab": {},
    "colab_type": "code",
    "id": "k3PEcO1U2gin"
   },
   "outputs": [],
   "source": [
    "from keras.preprocessing.sequence import pad_sequences"
   ]
  },
  {
   "cell_type": "code",
   "execution_count": 18,
   "metadata": {
    "colab": {
     "base_uri": "https://localhost:8080/",
     "height": 35
    },
    "colab_type": "code",
    "id": "GbOpAB3YGjQX",
    "outputId": "e74677c5-ca67-43d9-f9eb-05caa5364ae9"
   },
   "outputs": [
    {
     "name": "stdout",
     "output_type": "stream",
     "text": [
      "encoder_input_data.shape: (20000, 103)\n"
     ]
    }
   ],
   "source": [
    "encoder_input_data = pad_sequences(input_sequence, maxlen=max_input_len)\n",
    "print(\"encoder_input_data.shape:\", encoder_input_data.shape)"
   ]
  },
  {
   "cell_type": "code",
   "execution_count": 19,
   "metadata": {
    "colab": {
     "base_uri": "https://localhost:8080/",
     "height": 35
    },
    "colab_type": "code",
    "id": "Ur0maHmf68AW",
    "outputId": "a9aff34a-0c17-491d-d3a4-7fb5b7402dd1"
   },
   "outputs": [
    {
     "name": "stdout",
     "output_type": "stream",
     "text": [
      "decoder_input_data.shape: (20000, 38)\n"
     ]
    }
   ],
   "source": [
    "decoder_input_data = pad_sequences(output_sequence, maxlen=max_output_len, padding='post')\n",
    "print(\"decoder_input_data.shape:\", decoder_input_data.shape)"
   ]
  },
  {
   "cell_type": "markdown",
   "metadata": {
    "colab_type": "text",
    "id": "d7fG-reKGyIu"
   },
   "source": [
    "# Word Embeddings"
   ]
  },
  {
   "cell_type": "code",
   "execution_count": 0,
   "metadata": {
    "colab": {},
    "colab_type": "code",
    "id": "9GPaEJQluPbh"
   },
   "outputs": [],
   "source": [
    "from keras.layers import Embedding\n",
    "\n",
    "embedding_dim = 100\n",
    "batch_size = 64  # Batch size for training.\n",
    "num_epochs = 20  # Number of epochs to train for.\n",
    "hidden_dim = 256  # Latent dimensionality of the encoding space.\n",
    "num_samples = 10000  # Number of samples to train on."
   ]
  },
  {
   "cell_type": "code",
   "execution_count": 21,
   "metadata": {
    "colab": {
     "base_uri": "https://localhost:8080/",
     "height": 35
    },
    "colab_type": "code",
    "id": "H87qG-G-Gvvv",
    "outputId": "107043ce-3642-4266-d544-9e1c0c9f7c56"
   },
   "outputs": [
    {
     "name": "stdout",
     "output_type": "stream",
     "text": [
      "Found 400000 word vectors.\n"
     ]
    }
   ],
   "source": [
    "embeddings_index = {}\n",
    "with open('../reference/glove.6B.100d.txt') as f:\n",
    "    for line in f:\n",
    "        values = line.split()\n",
    "        word = values[0]\n",
    "        coefs = np.asarray(values[1:], dtype='float32')\n",
    "        embeddings_index[word] = coefs\n",
    "    f.close()\n",
    "\n",
    "print('Found %s word vectors.' % len(embeddings_index))"
   ]
  },
  {
   "cell_type": "code",
   "execution_count": 0,
   "metadata": {
    "colab": {},
    "colab_type": "code",
    "id": "xPfo3wCkGzKr"
   },
   "outputs": [],
   "source": [
    "num_words = len(word2idx_inputs) + 1\n",
    "embedding_matrix = np.zeros((num_words, embedding_dim))\n",
    "for word, index in word2idx_inputs.items():\n",
    "    embedding_vector = embeddings_index.get(word)\n",
    "    if embedding_vector is not None:\n",
    "        embedding_matrix[index] = embedding_vector"
   ]
  },
  {
   "cell_type": "code",
   "execution_count": 23,
   "metadata": {
    "colab": {
     "base_uri": "https://localhost:8080/",
     "height": 72
    },
    "colab_type": "code",
    "id": "jPMSn4M6H5XC",
    "outputId": "4b4d9de8-7133-4e02-e6d0-f792848276a3"
   },
   "outputs": [
    {
     "name": "stdout",
     "output_type": "stream",
     "text": [
      "WARNING:tensorflow:From /usr/local/lib/python3.6/dist-packages/keras/backend/tensorflow_backend.py:66: The name tf.get_default_graph is deprecated. Please use tf.compat.v1.get_default_graph instead.\n",
      "\n"
     ]
    }
   ],
   "source": [
    "embedding_layer = Embedding(num_words, embedding_dim, weights=[embedding_matrix], input_length=max_input_len, trainable=False)"
   ]
  },
  {
   "cell_type": "markdown",
   "metadata": {
    "colab_type": "text",
    "id": "uSaYGFk7DCx6"
   },
   "source": [
    "# One Hot Vectorization"
   ]
  },
  {
   "cell_type": "code",
   "execution_count": 0,
   "metadata": {
    "colab": {},
    "colab_type": "code",
    "id": "fdGdnnGLDzWx"
   },
   "outputs": [],
   "source": [
    "decoder_output_data = np.zeros((\n",
    "        len(encoder_input_data),\n",
    "        max_output_len,\n",
    "        num_words_output\n",
    "    ),\n",
    "    dtype='float32'\n",
    ")"
   ]
  },
  {
   "cell_type": "code",
   "execution_count": 25,
   "metadata": {
    "colab": {
     "base_uri": "https://localhost:8080/",
     "height": 35
    },
    "colab_type": "code",
    "id": "jbMG_vOfMQbn",
    "outputId": "a8e09872-8b25-41af-83ad-905b4e51164e"
   },
   "outputs": [
    {
     "data": {
      "text/plain": [
       "(20000, 38, 4854)"
      ]
     },
     "execution_count": 25,
     "metadata": {
      "tags": []
     },
     "output_type": "execute_result"
    }
   ],
   "source": [
    "decoder_output_data.shape"
   ]
  },
  {
   "cell_type": "code",
   "execution_count": 0,
   "metadata": {
    "colab": {},
    "colab_type": "code",
    "id": "uTTuvUJqMV1Z"
   },
   "outputs": [],
   "source": [
    "for i, d in enumerate(decoder_input_data):\n",
    "    for t, word in enumerate(d):\n",
    "        decoder_output_data[i, t, word] = 1"
   ]
  },
  {
   "cell_type": "markdown",
   "metadata": {
    "colab_type": "text",
    "id": "1uWBkGD_H8vi"
   },
   "source": [
    "# Build Seq2Seq model"
   ]
  },
  {
   "cell_type": "code",
   "execution_count": 0,
   "metadata": {
    "colab": {},
    "colab_type": "code",
    "id": "Z6QsuW4LH7g2"
   },
   "outputs": [],
   "source": [
    "from keras.layers import Input, Dense, LSTM, TimeDistributed\n",
    "from keras.models import Model"
   ]
  },
  {
   "cell_type": "code",
   "execution_count": 28,
   "metadata": {
    "colab": {
     "base_uri": "https://localhost:8080/",
     "height": 315
    },
    "colab_type": "code",
    "id": "JsHuRRIxr8z4",
    "outputId": "a7d7b2a6-b6e2-43a7-d274-d9035a056903"
   },
   "outputs": [
    {
     "name": "stdout",
     "output_type": "stream",
     "text": [
      "WARNING:tensorflow:From /usr/local/lib/python3.6/dist-packages/keras/backend/tensorflow_backend.py:541: The name tf.placeholder is deprecated. Please use tf.compat.v1.placeholder instead.\n",
      "\n",
      "WARNING:tensorflow:From /usr/local/lib/python3.6/dist-packages/keras/backend/tensorflow_backend.py:4432: The name tf.random_uniform is deprecated. Please use tf.random.uniform instead.\n",
      "\n",
      "WARNING:tensorflow:From /usr/local/lib/python3.6/dist-packages/keras/backend/tensorflow_backend.py:190: The name tf.get_default_session is deprecated. Please use tf.compat.v1.get_default_session instead.\n",
      "\n",
      "WARNING:tensorflow:From /usr/local/lib/python3.6/dist-packages/keras/backend/tensorflow_backend.py:197: The name tf.ConfigProto is deprecated. Please use tf.compat.v1.ConfigProto instead.\n",
      "\n",
      "WARNING:tensorflow:From /usr/local/lib/python3.6/dist-packages/keras/backend/tensorflow_backend.py:203: The name tf.Session is deprecated. Please use tf.compat.v1.Session instead.\n",
      "\n",
      "WARNING:tensorflow:From /usr/local/lib/python3.6/dist-packages/keras/backend/tensorflow_backend.py:207: The name tf.global_variables is deprecated. Please use tf.compat.v1.global_variables instead.\n",
      "\n",
      "WARNING:tensorflow:From /usr/local/lib/python3.6/dist-packages/keras/backend/tensorflow_backend.py:216: The name tf.is_variable_initialized is deprecated. Please use tf.compat.v1.is_variable_initialized instead.\n",
      "\n",
      "WARNING:tensorflow:From /usr/local/lib/python3.6/dist-packages/keras/backend/tensorflow_backend.py:223: The name tf.variables_initializer is deprecated. Please use tf.compat.v1.variables_initializer instead.\n",
      "\n"
     ]
    }
   ],
   "source": [
    "# Define encoder\n",
    "encoder_inputs = Input(shape=(max_input_len, ), )\n",
    "encoder_inputs_x = embedding_layer(encoder_inputs)\n",
    "encoder_LSTM = LSTM(hidden_dim, return_state=True)\n",
    "encoder_outputs, state_h, state_c = encoder_LSTM(encoder_inputs_x)\n",
    "encoder_states = [state_h, state_c]"
   ]
  },
  {
   "cell_type": "code",
   "execution_count": 0,
   "metadata": {
    "colab": {},
    "colab_type": "code",
    "id": "tYvBLZIysBv8"
   },
   "outputs": [],
   "source": [
    "# Define decoder\n",
    "decoder_inputs = Input(shape=(max_output_len, ), )\n",
    "decoder_embedding = Embedding(num_words_output, hidden_dim)\n",
    "decoder_inputs_x = decoder_embedding(decoder_inputs)\n",
    "decoder_LSTM = LSTM(hidden_dim, return_state=True, return_sequences=True)\n",
    "decoder_outputs, _, _ = decoder_LSTM(decoder_inputs_x, initial_state=encoder_states)"
   ]
  },
  {
   "cell_type": "code",
   "execution_count": 0,
   "metadata": {
    "colab": {},
    "colab_type": "code",
    "id": "Lzp_EL-nvh57"
   },
   "outputs": [],
   "source": [
    "# Define dense layer\n",
    "decoder_dense = Dense(num_words_output, activation='softmax')\n",
    "decoder_outputs = decoder_dense(decoder_outputs)"
   ]
  },
  {
   "cell_type": "code",
   "execution_count": 31,
   "metadata": {
    "colab": {
     "base_uri": "https://localhost:8080/",
     "height": 107
    },
    "colab_type": "code",
    "id": "hqSifiTBIB1I",
    "outputId": "2dd5b80f-d0df-44ba-976a-2ea9d98f01dd"
   },
   "outputs": [
    {
     "name": "stdout",
     "output_type": "stream",
     "text": [
      "WARNING:tensorflow:From /usr/local/lib/python3.6/dist-packages/keras/optimizers.py:793: The name tf.train.Optimizer is deprecated. Please use tf.compat.v1.train.Optimizer instead.\n",
      "\n",
      "WARNING:tensorflow:From /usr/local/lib/python3.6/dist-packages/keras/backend/tensorflow_backend.py:3576: The name tf.log is deprecated. Please use tf.math.log instead.\n",
      "\n"
     ]
    }
   ],
   "source": [
    "# Build and compile model\n",
    "model = Model([encoder_inputs, decoder_inputs], decoder_outputs)\n",
    "model.compile(optimizer='adam', loss ='categorical_crossentropy', metrics = ['accuracy'])"
   ]
  },
  {
   "cell_type": "code",
   "execution_count": 32,
   "metadata": {
    "colab": {
     "base_uri": "https://localhost:8080/",
     "height": 433
    },
    "colab_type": "code",
    "id": "sBev1G-2IGb6",
    "outputId": "46a72493-0f87-43f4-e83d-533f56e80ea0"
   },
   "outputs": [
    {
     "name": "stdout",
     "output_type": "stream",
     "text": [
      "Model: \"model_1\"\n",
      "__________________________________________________________________________________________________\n",
      "Layer (type)                    Output Shape         Param #     Connected to                     \n",
      "==================================================================================================\n",
      "input_1 (InputLayer)            (None, 103)          0                                            \n",
      "__________________________________________________________________________________________________\n",
      "input_2 (InputLayer)            (None, 38)           0                                            \n",
      "__________________________________________________________________________________________________\n",
      "embedding_1 (Embedding)         (None, 103, 100)     4374400     input_1[0][0]                    \n",
      "__________________________________________________________________________________________________\n",
      "embedding_2 (Embedding)         (None, 38, 256)      1242624     input_2[0][0]                    \n",
      "__________________________________________________________________________________________________\n",
      "lstm_1 (LSTM)                   [(None, 256), (None, 365568      embedding_1[0][0]                \n",
      "__________________________________________________________________________________________________\n",
      "lstm_2 (LSTM)                   [(None, 38, 256), (N 525312      embedding_2[0][0]                \n",
      "                                                                 lstm_1[0][1]                     \n",
      "                                                                 lstm_1[0][2]                     \n",
      "__________________________________________________________________________________________________\n",
      "dense_1 (Dense)                 (None, 38, 4854)     1247478     lstm_2[0][0]                     \n",
      "==================================================================================================\n",
      "Total params: 7,755,382\n",
      "Trainable params: 3,380,982\n",
      "Non-trainable params: 4,374,400\n",
      "__________________________________________________________________________________________________\n"
     ]
    }
   ],
   "source": [
    "model.summary()"
   ]
  },
  {
   "cell_type": "code",
   "execution_count": 33,
   "metadata": {
    "colab": {
     "base_uri": "https://localhost:8080/",
     "height": 533
    },
    "colab_type": "code",
    "id": "KL8GG1DdILFX",
    "outputId": "813d7e51-6cf7-40ee-ae58-d0e9951b49c8"
   },
   "outputs": [
    {
     "data": {
      "image/png": "[encoded data removed]",
      "text/plain": [
       "<IPython.core.display.Image object>"
      ]
     },
     "execution_count": 33,
     "metadata": {
      "tags": []
     },
     "output_type": "execute_result"
    }
   ],
   "source": [
    "from keras.utils import plot_model\n",
    "plot_model(model, to_file='seq2seq_final.png', show_shapes=True, show_layer_names=True)"
   ]
  },
  {
   "cell_type": "markdown",
   "metadata": {
    "colab_type": "text",
    "id": "1m02qOM8IPdB"
   },
   "source": [
    "# Train model"
   ]
  },
  {
   "cell_type": "code",
   "execution_count": 34,
   "metadata": {
    "colab": {
     "base_uri": "https://localhost:8080/",
     "height": 869
    },
    "colab_type": "code",
    "id": "_5FtT0CuIVzU",
    "outputId": "0756cb6d-da3a-40fb-8d81-fdc9154f350c"
   },
   "outputs": [
    {
     "name": "stdout",
     "output_type": "stream",
     "text": [
      "WARNING:tensorflow:From /usr/local/lib/python3.6/dist-packages/tensorflow_core/python/ops/math_grad.py:1424: where (from tensorflow.python.ops.array_ops) is deprecated and will be removed in a future version.\n",
      "Instructions for updating:\n",
      "Use tf.where in 2.0, which has the same broadcast rule as np.where\n",
      "WARNING:tensorflow:From /usr/local/lib/python3.6/dist-packages/keras/backend/tensorflow_backend.py:1033: The name tf.assign_add is deprecated. Please use tf.compat.v1.assign_add instead.\n",
      "\n",
      "WARNING:tensorflow:From /usr/local/lib/python3.6/dist-packages/keras/backend/tensorflow_backend.py:1020: The name tf.assign is deprecated. Please use tf.compat.v1.assign instead.\n",
      "\n",
      "Train on 16000 samples, validate on 4000 samples\n",
      "Epoch 1/20\n",
      "16000/16000 [==============================] - 130s 8ms/step - loss: 0.9133 - acc: 0.9203 - val_loss: 0.5626 - val_acc: 0.9377\n",
      "Epoch 2/20\n",
      "16000/16000 [==============================] - 127s 8ms/step - loss: 0.4797 - acc: 0.9385 - val_loss: 0.5254 - val_acc: 0.9399\n",
      "Epoch 3/20\n",
      "16000/16000 [==============================] - 127s 8ms/step - loss: 0.4201 - acc: 0.9414 - val_loss: 0.5123 - val_acc: 0.9432\n",
      "Epoch 4/20\n",
      "16000/16000 [==============================] - 128s 8ms/step - loss: 0.3547 - acc: 0.9460 - val_loss: 0.5098 - val_acc: 0.9468\n",
      "Epoch 5/20\n",
      "16000/16000 [==============================] - 127s 8ms/step - loss: 0.2867 - acc: 0.9543 - val_loss: 0.5055 - val_acc: 0.9511\n",
      "Epoch 6/20\n",
      "16000/16000 [==============================] - 127s 8ms/step - loss: 0.2204 - acc: 0.9657 - val_loss: 0.4990 - val_acc: 0.9556\n",
      "Epoch 7/20\n",
      "16000/16000 [==============================] - 126s 8ms/step - loss: 0.1596 - acc: 0.9783 - val_loss: 0.4908 - val_acc: 0.9593\n",
      "Epoch 8/20\n",
      "16000/16000 [==============================] - 125s 8ms/step - loss: 0.1093 - acc: 0.9880 - val_loss: 0.4838 - val_acc: 0.9619\n",
      "Epoch 9/20\n",
      "16000/16000 [==============================] - 128s 8ms/step - loss: 0.0712 - acc: 0.9944 - val_loss: 0.4780 - val_acc: 0.9635\n",
      "Epoch 10/20\n",
      "16000/16000 [==============================] - 126s 8ms/step - loss: 0.0449 - acc: 0.9979 - val_loss: 0.4697 - val_acc: 0.9647\n",
      "Epoch 11/20\n",
      "16000/16000 [==============================] - 127s 8ms/step - loss: 0.0277 - acc: 0.9993 - val_loss: 0.4635 - val_acc: 0.9651\n",
      "Epoch 12/20\n",
      "16000/16000 [==============================] - 125s 8ms/step - loss: 0.0168 - acc: 0.9998 - val_loss: 0.4575 - val_acc: 0.9654\n",
      "Epoch 13/20\n",
      "16000/16000 [==============================] - 126s 8ms/step - loss: 0.0102 - acc: 1.0000 - val_loss: 0.4526 - val_acc: 0.9655\n",
      "Epoch 14/20\n",
      "16000/16000 [==============================] - 126s 8ms/step - loss: 0.0066 - acc: 1.0000 - val_loss: 0.4497 - val_acc: 0.9657\n",
      "Epoch 15/20\n",
      "16000/16000 [==============================] - 126s 8ms/step - loss: 0.0045 - acc: 1.0000 - val_loss: 0.4468 - val_acc: 0.9659\n",
      "Epoch 16/20\n",
      "16000/16000 [==============================] - 127s 8ms/step - loss: 0.0032 - acc: 1.0000 - val_loss: 0.4445 - val_acc: 0.9662\n",
      "Epoch 17/20\n",
      "16000/16000 [==============================] - 126s 8ms/step - loss: 0.0024 - acc: 1.0000 - val_loss: 0.4430 - val_acc: 0.9661\n",
      "Epoch 18/20\n",
      "16000/16000 [==============================] - 127s 8ms/step - loss: 0.0019 - acc: 1.0000 - val_loss: 0.4412 - val_acc: 0.9662\n",
      "Epoch 19/20\n",
      "16000/16000 [==============================] - 126s 8ms/step - loss: 0.0015 - acc: 1.0000 - val_loss: 0.4401 - val_acc: 0.9663\n",
      "Epoch 20/20\n",
      "16000/16000 [==============================] - 126s 8ms/step - loss: 0.0012 - acc: 1.0000 - val_loss: 0.4391 - val_acc: 0.9664\n"
     ]
    }
   ],
   "source": [
    "history = model.fit([encoder_input_data, decoder_input_data], \n",
    "                     decoder_output_data, \n",
    "                     epochs=num_epochs, \n",
    "                     batch_size=batch_size,\n",
    "                     validation_split=0.2)"
   ]
  },
  {
   "cell_type": "markdown",
   "metadata": {
    "colab_type": "text",
    "id": "n_GgBzFKIYN4"
   },
   "source": [
    "# Visualize learning history"
   ]
  },
  {
   "cell_type": "code",
   "execution_count": 35,
   "metadata": {
    "colab": {
     "base_uri": "https://localhost:8080/",
     "height": 404
    },
    "colab_type": "code",
    "id": "rC8pDEyrIZqS",
    "outputId": "5820e029-ed71-4f5d-fc10-5ee0c83fc559"
   },
   "outputs": [
    {
     "data": {
      "image/png": "[encoded data removed]",
      "text/plain": [
       "<Figure size 720x432 with 1 Axes>"
      ]
     },
     "metadata": {
      "tags": []
     },
     "output_type": "display_data"
    }
   ],
   "source": [
    "import matplotlib.pyplot as plt\n",
    "%matplotlib inline\n",
    "\n",
    "plt.figure(figsize=(10, 6))\n",
    "plt.plot(history.history['acc'])\n",
    "plt.plot(history.history['val_acc'])\n",
    "plt.title('model accuracy')\n",
    "plt.ylabel('accuracy')\n",
    "plt.xlabel('epoch')\n",
    "plt.legend(['train', 'validation'], loc='upper left')\n",
    "plt.show()"
   ]
  },
  {
   "cell_type": "code",
   "execution_count": 36,
   "metadata": {
    "colab": {
     "base_uri": "https://localhost:8080/",
     "height": 404
    },
    "colab_type": "code",
    "id": "qcdkECpDIddl",
    "outputId": "ee6c9f2e-58d3-46ed-8efd-5f2649e659ec"
   },
   "outputs": [
    {
     "data": {
      "image/png": "[encoded data removed]",
      "text/plain": [
       "<Figure size 720x432 with 1 Axes>"
      ]
     },
     "metadata": {
      "tags": []
     },
     "output_type": "display_data"
    }
   ],
   "source": [
    "plt.figure(figsize=(10, 6))\n",
    "plt.plot(history.history['loss'])\n",
    "plt.plot(history.history['val_loss'])\n",
    "plt.title('model loss')\n",
    "plt.ylabel('loss')\n",
    "plt.xlabel('epoch')\n",
    "plt.legend(['train', 'validation'], loc='upper left')\n",
    "plt.show()"
   ]
  },
  {
   "cell_type": "markdown",
   "metadata": {
    "colab_type": "text",
    "id": "Ut0bwanpof9l"
   },
   "source": [
    "# Save model"
   ]
  },
  {
   "cell_type": "code",
   "execution_count": 0,
   "metadata": {
    "colab": {},
    "colab_type": "code",
    "id": "MBGzDAeNIk7F"
   },
   "outputs": [],
   "source": [
    "# Save model\n",
    "model.save(\"seq2seq_final.h5\")"
   ]
  },
  {
   "cell_type": "markdown",
   "metadata": {
    "colab_type": "text",
    "id": "8UWgHZB7xK-8"
   },
   "source": [
    "# Inference models"
   ]
  },
  {
   "cell_type": "code",
   "execution_count": 0,
   "metadata": {
    "colab": {},
    "colab_type": "code",
    "id": "JFwp4Esgr1ul"
   },
   "outputs": [],
   "source": [
    "encoder_model = Model(encoder_inputs, encoder_states)"
   ]
  },
  {
   "cell_type": "code",
   "execution_count": 45,
   "metadata": {
    "colab": {
     "base_uri": "https://localhost:8080/",
     "height": 312
    },
    "colab_type": "code",
    "id": "IfjedSlv9mCa",
    "outputId": "610239d2-b194-444f-e988-70dbc7f8755e"
   },
   "outputs": [
    {
     "data": {
      "image/png": "[encoded data removed]",
      "text/plain": [
       "<IPython.core.display.Image object>"
      ]
     },
     "execution_count": 45,
     "metadata": {
      "tags": []
     },
     "output_type": "execute_result"
    }
   ],
   "source": [
    "# Plot encoder model\n",
    "plot_model(encoder_model, to_file='encoder_final.png', show_shapes=True, show_layer_names=True)"
   ]
  },
  {
   "cell_type": "code",
   "execution_count": 0,
   "metadata": {
    "colab": {},
    "colab_type": "code",
    "id": "otnztU0LyT3s"
   },
   "outputs": [],
   "source": [
    "decoder_state_input_h = Input(shape=(hidden_dim, ),)\n",
    "decoder_state_input_c = Input(shape=(hidden_dim, ), )\n",
    "decoder_state_inputs = [decoder_state_input_h, decoder_state_input_c]\n",
    "\n",
    "decoder_inputs_single = Input(shape=(1,))\n",
    "decoder_inputs_single_x = decoder_embedding(decoder_inputs_single)\n",
    "\n",
    "decoder_outputs, h, c = decoder_LSTM(decoder_inputs_single_x, initial_state=decoder_state_inputs)\n",
    "\n",
    "decoder_states = [h, c]\n",
    "decoder_outputs = decoder_dense(decoder_outputs)"
   ]
  },
  {
   "cell_type": "code",
   "execution_count": 0,
   "metadata": {
    "colab": {},
    "colab_type": "code",
    "id": "3eFdpUOey6Te"
   },
   "outputs": [],
   "source": [
    "decoder_model = Model(\n",
    "    [decoder_inputs_single] + decoder_state_inputs,\n",
    "    [decoder_outputs] + decoder_states\n",
    ")"
   ]
  },
  {
   "cell_type": "code",
   "execution_count": 41,
   "metadata": {
    "colab": {
     "base_uri": "https://localhost:8080/",
     "height": 422
    },
    "colab_type": "code",
    "id": "Tt9k7qYNzrLx",
    "outputId": "9ac60a00-4b49-445f-9e0e-af4b6ac15be4"
   },
   "outputs": [
    {
     "data": {
      "image/png": "[encoded data removed]",
      "text/plain": [
       "<IPython.core.display.Image object>"
      ]
     },
     "execution_count": 41,
     "metadata": {
      "tags": []
     },
     "output_type": "execute_result"
    }
   ],
   "source": [
    "# Plot prediction model\n",
    "plot_model(decoder_model, to_file='decoder_final.png', show_shapes=True, show_layer_names=True)"
   ]
  },
  {
   "cell_type": "markdown",
   "metadata": {
    "colab_type": "text",
    "id": "5LZKIFnb3aF-"
   },
   "source": [
    "# Making Predictions"
   ]
  },
  {
   "cell_type": "code",
   "execution_count": 0,
   "metadata": {
    "colab": {},
    "colab_type": "code",
    "id": "_it3h3xIzuNH"
   },
   "outputs": [],
   "source": [
    "# Source: https://stackabuse.com/python-for-nlp-neural-machine-translation-with-seq2seq-in-keras/\n",
    "\n",
    "def make_guess(input_seq):\n",
    "    states_value = encoder_model.predict(input_seq)\n",
    "    target_seq = np.zeros((1, 1))\n",
    "    target_seq[0, 0] = word2idx_outputs['<sos>']\n",
    "    eos = word2idx_outputs['<eos>']\n",
    "    output_sentence = []\n",
    "\n",
    "    output_tokens, h, c = decoder_model.predict([target_seq] + states_value)\n",
    "    idx = np.argmax(output_tokens[0, -1, :])\n",
    "\n",
    "    if idx > 0:\n",
    "        word = idx2word_target[idx]\n",
    "        output_sentence.append(word)\n",
    "\n",
    "    target_seq[0, 0] = idx\n",
    "    states_value = [h, c]\n",
    "\n",
    "    return ' '.join(output_sentence)"
   ]
  },
  {
   "cell_type": "code",
   "execution_count": 0,
   "metadata": {
    "colab": {},
    "colab_type": "code",
    "id": "rnbWhWTd3X7m"
   },
   "outputs": [],
   "source": [
    "idx2word_input = {v:k for k, v in word2idx_inputs.items()}\n",
    "idx2word_target = {v:k for k, v in word2idx_outputs.items()}"
   ]
  },
  {
   "cell_type": "code",
   "execution_count": 172,
   "metadata": {
    "colab": {
     "base_uri": "https://localhost:8080/",
     "height": 89
    },
    "colab_type": "code",
    "id": "SHD5OcA0SADS",
    "outputId": "7a470774-4c81-4f68-9b65-ffc73c028c72"
   },
   "outputs": [
    {
     "name": "stdout",
     "output_type": "stream",
     "text": [
      "Question: its minor characters include the adulterous dr nastini as well as captain gnorostiaga whose police report detailing a servant s murder of her boyfriend pancho in her mistress bed takes up much of the twelfth episode\n",
      "Answer: heartbreak tango or boquitas pintadas <eos>\n",
      "Guess: enchiridion\n"
     ]
    }
   ],
   "source": [
    "i = np.random.choice(len(input_texts))\n",
    "input_seq = encoder_input_data[i:i+1]\n",
    "guess = make_guess(input_seq)\n",
    "print('Question:', input_texts[i])\n",
    "print('Answer:', target_texts[i])\n",
    "print('Guess:', guess)"
   ]
  },
  {
   "cell_type": "code",
   "execution_count": 0,
   "metadata": {
    "colab": {},
    "colab_type": "code",
    "id": "ujl0XYcg-g58"
   },
   "outputs": [],
   "source": []
  }
 ],
 "metadata": {
  "accelerator": "TPU",
  "colab": {
   "collapsed_sections": [],
   "machine_shape": "hm",
   "name": "seq2seq_final.ipynb",
   "provenance": []
  },
  "kernelspec": {
   "display_name": "Python 3",
   "language": "python",
   "name": "python3"
  },
  "language_info": {
   "codemirror_mode": {
    "name": "ipython",
    "version": 3
   },
   "file_extension": ".py",
   "mimetype": "text/x-python",
   "name": "python",
   "nbconvert_exporter": "python",
   "pygments_lexer": "ipython3",
   "version": "3.6.8"
  }
 },
 "nbformat": 4,
 "nbformat_minor": 1
}
